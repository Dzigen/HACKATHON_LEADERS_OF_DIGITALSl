{
 "cells": [
  {
   "cell_type": "code",
   "execution_count": 2,
   "metadata": {},
   "outputs": [],
   "source": [
    "import pandas as pd\n",
    "import matplotlib.pyplot as plt\n",
    "import numpy as np\n",
    "import sys\n",
    "import xlrd\n",
    "import sqlite3"
   ]
  },
  {
   "cell_type": "code",
   "execution_count": null,
   "metadata": {},
   "outputs": [],
   "source": [
    "xl_path = \"C:\\\\Users\\\\KanoDzuma\\\\Desktop\\\\Цифр_прорыв\\\\\"  # Путь до файла\n",
    "xl_name = \"Семьи с детьми до 18 лет по МО.xlsx\"  # Название документа Excel\n",
    "xl = pd.ExcelFile(xl_path + xl_name)"
   ]
  },
  {
   "cell_type": "code",
   "execution_count": 12,
   "metadata": {
    "collapsed": true
   },
   "outputs": [
    {
     "name": "stdout",
     "output_type": "stream",
     "text": [
      "База данных подключена к SQLite\n",
      "Таблица SQLite создана\n",
      "Соединение с SQLite закрыто\n"
     ]
    }
   ],
   "source": [
    "try:\n",
    "    sqlite_connection = sqlite3.connect('disabled2021.db')\n",
    "    sqlite_create_table_query = '''CREATE TABLE disabled2021 (\n",
    "                                id INTEGER PRIMARY KEY,\n",
    "                                areas TEXT NOT NULL,\n",
    "                                group_1 INTEGER NOT NULL,\n",
    "                                group_2 INTEGER NOT NULL,\n",
    "                                group_3 INTEGER NOT NULL,\n",
    "                                children INTEGER NOT NULL,\n",
    "                                amount INTEGER NOT NULL);'''\n",
    "\n",
    "    cursor = sqlite_connection.cursor()\n",
    "    print(\"База данных подключена к SQLite\")\n",
    "    cursor.execute(sqlite_create_table_query)\n",
    "    sqlite_connection.commit()\n",
    "    print(\"Таблица SQLite создана\")\n",
    "\n",
    "    cursor.close()\n",
    "\n",
    "except sqlite3.Error as error:\n",
    "    print(\"Ошибка при подключении к sqlite\", error)\n",
    "finally:\n",
    "    if (sqlite_connection):\n",
    "        sqlite_connection.close()\n",
    "        print(\"Соединение с SQLite закрыто\")\n"
   ]
  },
  {
   "cell_type": "code",
   "execution_count": 32,
   "metadata": {},
   "outputs": [],
   "source": [
    "rows=[]"
   ]
  },
  {
   "cell_type": "code",
   "execution_count": 23,
   "metadata": {},
   "outputs": [],
   "source": [
    "xl_path = r'C:\\Users\\KanoDzuma\\Desktop\\Входные данные\\Цифр_прорыв\\\\'  \n",
    "xl_name = 'инвалиды на 01.01.2021 в разрезе МО.xlsx'  # Название документа Excel\n",
    "rb = xlrd.open_workbook(xl_path + xl_name)"
   ]
  },
  {
   "cell_type": "code",
   "execution_count": 33,
   "metadata": {},
   "outputs": [],
   "source": [
    "sheet = rb.sheet_by_index(0)\n",
    "for rownum in range(4,sheet.nrows):\n",
    "    row = sheet.row_values(rownum)\n",
    "    values=[]\n",
    "    i=0\n",
    "    for c_el in row:\n",
    "        values+= [c_el]\n",
    "        i+=1\n",
    "        if i==6:\n",
    "            break\n",
    "    rows+=[values]"
   ]
  },
  {
   "cell_type": "code",
   "execution_count": 36,
   "metadata": {
    "collapsed": true
   },
   "outputs": [
    {
     "data": {
      "text/plain": [
       "[['Города и районы республики',\n",
       "  'инвалиды               1 группы',\n",
       "  'инвалиды              2 группы',\n",
       "  'инвалиды              3 группы',\n",
       "  'дети-инвалиды',\n",
       "  'Всего        инвалидов (в т.ч. детей)'],\n",
       " ['Алнашский', 239.0, 587.0, 665.0, 111.0, 1602.0],\n",
       " ['Балезинский', 296.0, 763.0, 915.0, 145.0, 2119.0],\n",
       " ['Воткинский', 160.0, 447.0, 644.0, 97.0, 1348.0],\n",
       " ['Вавожский', 130.0, 370.0, 498.0, 100.0, 1098.0],\n",
       " ['Глазовский', 208.0, 563.0, 563.0, 71.0, 1405.0],\n",
       " ['Граховский', 84.0, 226.0, 258.0, 52.0, 620.0],\n",
       " ['Дебесский', 92.0, 308.0, 353.0, 58.0, 811.0],\n",
       " ['Завьяловский', 507.0, 1624.0, 1869.0, 328.0, 4328.0],\n",
       " ['Игринский', 320.0, 976.0, 1019.0, 167.0, 2482.0],\n",
       " ['Камбарский', 196.0, 492.0, 669.0, 82.0, 1439.0],\n",
       " ['Кезский', 205.0, 610.0, 777.0, 97.0, 1689.0],\n",
       " ['Кизнерский', 182.0, 446.0, 532.0, 73.0, 1233.0],\n",
       " ['Красногорский', 97.0, 387.0, 405.0, 33.0, 922.0],\n",
       " ['Каракулинский', 100.0, 384.0, 558.0, 63.0, 1105.0],\n",
       " ['Киясовский', 106.0, 341.0, 443.0, 29.0, 919.0],\n",
       " ['Можгинский', 246.0, 677.0, 700.0, 113.0, 1736.0],\n",
       " ['Малопургинский', 268.0, 615.0, 866.0, 111.0, 1860.0],\n",
       " ['Селтинский', 100.0, 238.0, 350.0, 58.0, 746.0],\n",
       " ['Сюмсинский', 254.0, 450.0, 395.0, 58.0, 1157.0],\n",
       " ['Увинский', 329.0, 843.0, 1032.0, 165.0, 2369.0],\n",
       " ['Шарканский', 160.0, 454.0, 662.0, 66.0, 1342.0],\n",
       " ['Юкаменский', 111.0, 370.0, 450.0, 25.0, 956.0],\n",
       " ['Ярский', 142.0, 376.0, 420.0, 48.0, 986.0],\n",
       " ['Як-Бодьинский', 246.0, 690.0, 897.0, 186.0, 2019.0],\n",
       " ['Итого по районам', 4778.0, 13237.0, 15940.0, 2336.0, 36291.0],\n",
       " ['Воткинск', 880.0, 2066.0, 2741.0, 357.0, 6044.0],\n",
       " ['Глазов', 1261.0, 3023.0, 2238.0, 402.0, 6924.0],\n",
       " ['Можга', 503.0, 1170.0, 1345.0, 204.0, 3222.0],\n",
       " ['Сарапул', 1535.0, 3482.0, 4403.0, 478.0, 9898.0],\n",
       " ['Итого по  городам', 4179.0, 9741.0, 10727.0, 1441.0, 26088.0],\n",
       " ['Индустриальный', 842.0, 2719.0, 3030.0, 395.0, 6986.0],\n",
       " ['Ленинский', 1527.0, 3968.0, 3977.0, 586.0, 10058.0],\n",
       " ['Октябрьский', 1044.0, 3565.0, 3517.0, 394.0, 8520.0],\n",
       " ['Первомайский', 1208.0, 3425.0, 3798.0, 495.0, 8926.0],\n",
       " ['Устиновский', 1141.0, 3271.0, 3691.0, 427.0, 8530.0],\n",
       " ['Итого по г.Ижевску', 5762.0, 16948.0, 18013.0, 2297.0, 43020.0],\n",
       " ['Всего', 14719.0, 39926.0, 44680.0, 6074.0, 105399.0],\n",
       " ['Во 2 квартале произошло слияние базы данных с базой ПФР',\n",
       "  '',\n",
       "  '',\n",
       "  '',\n",
       "  '',\n",
       "  ''],\n",
       " ['База УСЗН г.Сарапула теперь едина (Катарсис), деления на район и город нет.',\n",
       "  '',\n",
       "  '',\n",
       "  '',\n",
       "  '',\n",
       "  '']]"
      ]
     },
     "execution_count": 36,
     "metadata": {},
     "output_type": "execute_result"
    }
   ],
   "source": [
    "rows"
   ]
  },
  {
   "cell_type": "code",
   "execution_count": 38,
   "metadata": {},
   "outputs": [
    {
     "data": {
      "text/plain": [
       "\"hello 'world''\""
      ]
     },
     "execution_count": 38,
     "metadata": {},
     "output_type": "execute_result"
    }
   ],
   "source": [
    "\"hello '{}''\".format('world')"
   ]
  },
  {
   "cell_type": "code",
   "execution_count": null,
   "metadata": {},
   "outputs": [],
   "source": [
    "data = {}\n",
    "sheets = xl.sheet_names  # Названия листов\n",
    "for sheet in sheets:\n",
    "    df = xl.parse(sheet, usecols=[2, 2], engine=\"openpyxl\", skiprows=[0, 1], names=[\"Families\"])\n",
    "    values = df.values\n",
    "    data[sheet] = round(100 * int(values[12][0]) / int(values[1][0]), 2)\n",
    "\n"
   ]
  },
  {
   "cell_type": "code",
   "execution_count": 40,
   "metadata": {},
   "outputs": [
    {
     "name": "stdout",
     "output_type": "stream",
     "text": [
      "База данных подключена к SQLite\n",
      "Запись успешно вставлена ​​в таблицу sqlitedb_developers  1\n",
      "Запись успешно вставлена ​​в таблицу sqlitedb_developers  1\n",
      "Запись успешно вставлена ​​в таблицу sqlitedb_developers  1\n",
      "Запись успешно вставлена ​​в таблицу sqlitedb_developers  1\n",
      "Запись успешно вставлена ​​в таблицу sqlitedb_developers  1\n",
      "Запись успешно вставлена ​​в таблицу sqlitedb_developers  1\n",
      "Запись успешно вставлена ​​в таблицу sqlitedb_developers  1\n",
      "Запись успешно вставлена ​​в таблицу sqlitedb_developers  1\n",
      "Запись успешно вставлена ​​в таблицу sqlitedb_developers  1\n",
      "Запись успешно вставлена ​​в таблицу sqlitedb_developers  1\n",
      "Запись успешно вставлена ​​в таблицу sqlitedb_developers  1\n",
      "Запись успешно вставлена ​​в таблицу sqlitedb_developers  1\n",
      "Запись успешно вставлена ​​в таблицу sqlitedb_developers  1\n",
      "Запись успешно вставлена ​​в таблицу sqlitedb_developers  1\n",
      "Запись успешно вставлена ​​в таблицу sqlitedb_developers  1\n",
      "Запись успешно вставлена ​​в таблицу sqlitedb_developers  1\n",
      "Запись успешно вставлена ​​в таблицу sqlitedb_developers  1\n",
      "Запись успешно вставлена ​​в таблицу sqlitedb_developers  1\n",
      "Запись успешно вставлена ​​в таблицу sqlitedb_developers  1\n",
      "Запись успешно вставлена ​​в таблицу sqlitedb_developers  1\n",
      "Запись успешно вставлена ​​в таблицу sqlitedb_developers  1\n",
      "Запись успешно вставлена ​​в таблицу sqlitedb_developers  1\n",
      "Запись успешно вставлена ​​в таблицу sqlitedb_developers  1\n",
      "Запись успешно вставлена ​​в таблицу sqlitedb_developers  1\n",
      "Запись успешно вставлена ​​в таблицу sqlitedb_developers  1\n",
      "Запись успешно вставлена ​​в таблицу sqlitedb_developers  1\n",
      "Запись успешно вставлена ​​в таблицу sqlitedb_developers  1\n",
      "Запись успешно вставлена ​​в таблицу sqlitedb_developers  1\n",
      "Запись успешно вставлена ​​в таблицу sqlitedb_developers  1\n",
      "Запись успешно вставлена ​​в таблицу sqlitedb_developers  1\n",
      "Запись успешно вставлена ​​в таблицу sqlitedb_developers  1\n",
      "Запись успешно вставлена ​​в таблицу sqlitedb_developers  1\n",
      "Запись успешно вставлена ​​в таблицу sqlitedb_developers  1\n",
      "Запись успешно вставлена ​​в таблицу sqlitedb_developers  1\n",
      "Запись успешно вставлена ​​в таблицу sqlitedb_developers  1\n",
      "Запись успешно вставлена ​​в таблицу sqlitedb_developers  1\n",
      "Соединение с SQLite закрыто\n"
     ]
    }
   ],
   "source": [
    "try:\n",
    "    sqlite_connection = sqlite3.connect('disabled2021.db')\n",
    "    cursor = sqlite_connection.cursor()\n",
    "    print(\"База данных подключена к SQLite\")\n",
    "\n",
    "    for i in range(1,37):\n",
    "        sqlite_insert_query = \"\"\"INSERT INTO disabled2021\n",
    "                          (areas,group_1, group_2, group_3, children, amount)  \n",
    "                          VALUES  ('{}', {}, {},{}, {}, {})\"\"\".format(rows[i][0],rows[i][1],rows[i][2],rows[i][3],rows[i][4],rows[i][5])\n",
    "\n",
    "        count = cursor.execute(sqlite_insert_query)\n",
    "        sqlite_connection.commit()\n",
    "        print(\"Запись успешно вставлена ​​в таблицу sqlitedb_developers \", cursor.rowcount)\n",
    "    \n",
    "    cursor.close()\n",
    "\n",
    "except sqlite3.Error as error:\n",
    "    print(\"Не удалось вставить данные в таблицу sqlite\")\n",
    "    print(\"Класс исключения: \", error.__class__)\n",
    "    print(\"Исключение\", error.args)\n",
    "    print(\"Печать подробноcтей исключения SQLite: \")\n",
    "    exc_type, exc_value, exc_tb = sys.exc_info()\n",
    "    print(traceback.format_exception(exc_type, exc_value, exc_tb))\n",
    "finally:\n",
    "    if (sqlite_connection):\n",
    "        sqlite_connection.close()\n",
    "        print(\"Соединение с SQLite закрыто\")"
   ]
  },
  {
   "cell_type": "code",
   "execution_count": null,
   "metadata": {},
   "outputs": [],
   "source": []
  }
 ],
 "metadata": {
  "kernelspec": {
   "display_name": "Python 3",
   "language": "python",
   "name": "python3"
  },
  "language_info": {
   "codemirror_mode": {
    "name": "ipython",
    "version": 3
   },
   "file_extension": ".py",
   "mimetype": "text/x-python",
   "name": "python",
   "nbconvert_exporter": "python",
   "pygments_lexer": "ipython3",
   "version": "3.8.3"
  }
 },
 "nbformat": 4,
 "nbformat_minor": 4
}
